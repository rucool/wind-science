{
 "cells": [
  {
   "cell_type": "markdown",
   "metadata": {},
   "source": [
    "# Generating surface plots\n",
    "\n",
    "_Written by Lori Garzio, March 10, 2025_\n",
    "\n",
    "This tutorial outlines methods for generating pcolormesh surface maps of variables grabbed from the Rutgers University Weather Research and Forecasting Model (RU-WRF 4.1) from the [RUWRF THREDDs server](http://tds.marine.rutgers.edu/thredds/cool/ruwrf/catalog.html) to compare to the analyses described in Golbazi et al 2022 [DOI 10.1088/1748-9326/ac6e49](https://iopscience.iop.org/article/10.1088/1748-9326/ac6e49/meta).\n",
    "\n",
    "Using the [wrf_data_wrangler_grid.py](https://github.com/rucool/wind-science/blob/master/rmi-ocean-mixing/wrf_data_wrangler_grid.py) script, we grabbed model output from the summer of 2022 (June - August) for the control model version [1km_ctrl](https://tds.marine.rutgers.edu/thredds/catalog/cool/ruwrf/wrf_4_1_1km_ctrl_processed/catalog.html), a 1km model domain without simulated turbines, as well as data from the wind farm model version [1km\\_wf2km\\_nyb](https://tds.marine.rutgers.edu/thredds/catalog/cool/ruwrf/case_studies/wrf_4_1_1km_wf2km_upwellingctrl_processed/catalog.html), a 1km model domain with simulated 15 MW turbines spaced 2km apart and filling all wind energy lease areas in the New York Bight as of early 2023. Monthly files were generated for the following variables and heights (if applicable):\n",
    "\n",
    "\t- variables: T2, TEMP, U, V, U10, V10, UST, Q2, TKE_PBL, HFX, TSK\n",
    "\t- heights: surface, 120m, 160m, 200m, 300m\n",
    "\n",
    "After grabbing all of the model output, we generated summer 2022 averages using [data_averages.py](https://github.com/rucool/wind-science/blob/master/rmi-ocean-mixing/data_averages.py). Splitting the process into these two steps was necessary because of the length of time and computer resources it takes to grab this large volume of model output. The resulting files containing the summer 2022 averages for each variable can be downloaded [here](https://marine.rutgers.edu/~lgarzio/rmi_ocean_mixing/) if you want to skip the data wrangling and averaging process."
   ]
  },
  {
   "cell_type": "code",
   "execution_count": 3,
   "metadata": {},
   "outputs": [],
   "source": [
    "# import required packages\n",
    "import numpy as np\n",
    "import os\n",
    "import xarray as xr\n",
    "import matplotlib.pyplot as plt\n",
    "from matplotlib.ticker import MaxNLocator\n",
    "from matplotlib.colors import BoundaryNorm\n",
    "from matplotlib.colors import TwoSlopeNorm\n",
    "from matplotlib.colors import ListedColormap\n",
    "import cmocean as cmo\n",
    "from math import ceil\n",
    "import cool_maps.plot as cplt\n",
    "plt.rcParams.update({'font.size': 12})  # all font sizes are 12 unless otherwise specified"
   ]
  },
  {
   "cell_type": "markdown",
   "metadata": {},
   "source": [
    "First, specify the locations of the NetCDF files containing the model output (control and turbines) you want to plot, as well as a location to save all of the images."
   ]
  },
  {
   "cell_type": "code",
   "execution_count": 4,
   "metadata": {},
   "outputs": [],
   "source": [
    "file_dir = '/Users/garzio/Documents/rucool/rmi-ocean-mixing/files/1km_wf2km_nyb'\n",
    "file_dir_control = '/Users/garzio/Documents/rucool/rmi-ocean-mixing/files/1km_ctrl/'\n",
    "save_dir = '/Users/garzio/Documents/rucool/rmi-ocean-mixing/plots'"
   ]
  }
 ],
 "metadata": {
  "kernelspec": {
   "display_name": "wind-science",
   "language": "python",
   "name": "python3"
  },
  "language_info": {
   "codemirror_mode": {
    "name": "ipython",
    "version": 3
   },
   "file_extension": ".py",
   "mimetype": "text/x-python",
   "name": "python",
   "nbconvert_exporter": "python",
   "pygments_lexer": "ipython3",
   "version": "3.10.6"
  }
 },
 "nbformat": 4,
 "nbformat_minor": 2
}

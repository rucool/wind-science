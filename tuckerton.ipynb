{
 "cells": [
  {
   "cell_type": "code",
   "execution_count": null,
   "metadata": {},
   "outputs": [],
   "source": [
    "# Author: James Kim\n",
    "# Reads and subsets raw data from Tuckerton Met Station ans exports to CSV"
   ]
  },
  {
   "cell_type": "code",
   "execution_count": 1,
   "metadata": {},
   "outputs": [],
   "source": [
    "\n",
    "\n",
    "\n",
    "import datetime as dt\n",
    "import os\n",
    "import xarray as xr\n",
    "import numpy as np\n",
    "import pandas as pd\n",
    "import glob\n",
    "import matplotlib.pyplot as plt\n",
    "import matplotlib.dates as mdates\n",
    "import matplotlib.patches as patches\n",
    "import calendar\n",
    "import functions.common as cf\n",
    "from functions.common import return_seabreeze_datetimes\n",
    "pd.set_option('display.width', 320, \"display.max_columns\", 15)  # for display in pycharm console\n",
    "plt.rcParams.update({'font.size': 12})  # all font sizes are 12 unless otherwise specified"
   ]
  },
  {
   "cell_type": "code",
   "execution_count": 2,
   "metadata": {},
   "outputs": [],
   "source": [
    "files = '/users/jameskim/Documents/rucool/Data/Tuckerton/temp/'\n",
    "\n",
    "file_pattern = \"*.dat\"  # Pattern to match .dat files\n",
    "file_list = glob.glob(files + \"/\" + file_pattern)\n",
    "\n"
   ]
  },
  {
   "cell_type": "code",
   "execution_count": 3,
   "metadata": {},
   "outputs": [
    {
     "name": "stdout",
     "output_type": "stream",
     "text": [
      "Empty file: DAT.data.ftp.wxflow.surface.20200705.dat\n"
     ]
    }
   ],
   "source": [
    "# Create an empty list to store the data from each file\n",
    "data = []\n",
    "\n",
    "# Iterate over each file in the directory\n",
    "for filename in os.listdir(files):\n",
    "    if filename.endswith('.dat'):\n",
    "        filepath = os.path.join(files, filename)\n",
    "        \n",
    "        try:\n",
    "            # Read the .dat file into a pandas DataFrame\n",
    "            df = pd.read_csv(filepath, parse_dates=['time_stamp(utc)'])\n",
    "            \n",
    "            # Append the DataFrame to the list\n",
    "            data.append(df)\n",
    "        except pd.errors.EmptyDataError:\n",
    "            print(f\"Empty file: {filename}\")\n",
    "\n",
    "# Concatenate all the DataFrames in the list vertically\n",
    "combined_data = pd.concat(data, ignore_index=True)\n",
    "\n",
    "# Print the combined dat"
   ]
  },
  {
   "cell_type": "code",
   "execution_count": 4,
   "metadata": {},
   "outputs": [],
   "source": [
    "#new_data = combined_data[['time_stamp(utc)', '12m_air_temp(f)','2m_air_temp(f)']].copy()"
   ]
  },
  {
   "cell_type": "code",
   "execution_count": 4,
   "metadata": {},
   "outputs": [],
   "source": [
    "# Convert the desired column to datetime format\n",
    "combined_data['time_stamp(utc)'] = pd.to_datetime(combined_data['time_stamp(utc)'])\n",
    "\n",
    "combined_data.set_index('time_stamp(utc)', inplace=True)\n",
    "\n",
    "combined_data = combined_data.sort_index()"
   ]
  },
  {
   "cell_type": "code",
   "execution_count": null,
   "metadata": {},
   "outputs": [],
   "source": [
    "subset_data = combined_data['2019':'2022']"
   ]
  },
  {
   "cell_type": "code",
   "execution_count": 10,
   "metadata": {},
   "outputs": [],
   "source": [
    "#export as csv\n",
    "\n",
    "subset_data.to_csv('/Users/jameskim/Documents/rucool/tuckerton_2019-2022.csv')"
   ]
  }
 ],
 "metadata": {
  "kernelspec": {
   "display_name": "Python 3.10.8 ('wind-science')",
   "language": "python",
   "name": "python3"
  },
  "language_info": {
   "codemirror_mode": {
    "name": "ipython",
    "version": 3
   },
   "file_extension": ".py",
   "mimetype": "text/x-python",
   "name": "python",
   "nbconvert_exporter": "python",
   "pygments_lexer": "ipython3",
   "version": "3.10.8"
  },
  "orig_nbformat": 4,
  "vscode": {
   "interpreter": {
    "hash": "325f4c6deaec31a92dcebff5c9e23f8cecab1204b01a2953e3b161056b01b04f"
   }
  }
 },
 "nbformat": 4,
 "nbformat_minor": 2
}
